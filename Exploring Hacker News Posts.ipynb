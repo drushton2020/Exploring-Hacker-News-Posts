{
 "cells": [
  {
   "cell_type": "markdown",
   "metadata": {
    "collapsed": true
   },
   "source": [
    "# Analyzing posts from Hack News and popularity of them\n",
    "\n",
    "### This project has the objective of analyzing which one has more comments: **Ask HN** or **Show HN**. Also if the posts created in a certain time receive more comments than average. \n",
    "\n",
    "We are going to use a csv file that was taken from a Kaggle open dataset that can be found [here](https://www.kaggle.com/hacker-news/hacker-news-posts). \n",
    "First lets import the libraries we'll need and read the file we are going to use.\n",
    "## 1 Importing and reading the data"
   ]
  },
  {
   "cell_type": "code",
   "execution_count": 2,
   "metadata": {},
   "outputs": [
    {
     "name": "stdout",
     "output_type": "stream",
     "text": [
      "[['id', 'title', 'url', 'num_points', 'num_comments', 'author', 'created_at'], ['12224879', 'Interactive Dynamic Video', 'http://www.interactivedynamicvideo.com/', '386', '52', 'ne0phyte', '8/4/2016 11:52'], ['10975351', 'How to Use Open Source and Shut the Fuck Up at the Same Time', 'http://hueniverse.com/2016/01/26/how-to-use-open-source-and-shut-the-fuck-up-at-the-same-time/', '39', '10', 'josep2', '1/26/2016 19:30'], ['11964716', \"Florida DJs May Face Felony for April Fools' Water Joke\", 'http://www.thewire.com/entertainment/2013/04/florida-djs-april-fools-water-joke/63798/', '2', '1', 'vezycash', '6/23/2016 22:20'], ['11919867', 'Technology ventures: From Idea to Enterprise', 'https://www.amazon.com/Technology-Ventures-Enterprise-Thomas-Byers/dp/0073523429', '3', '1', 'hswarna', '6/17/2016 0:01'], ['10301696', 'Note by Note: The Making of Steinway L1037 (2007)', 'http://www.nytimes.com/2007/11/07/movies/07stein.html?_r=0', '8', '2', 'walterbell', '9/30/2015 4:12']]\n"
     ]
    }
   ],
   "source": [
    "# Importing csv reader\n",
    "from csv import reader\n",
    "\n",
    "# Opening, reading and creating a list of lists with the csv file\n",
    "hn = list(reader(open('/home/nathalia/Documents/2 data science/6 DataQuest Projects/2 Exploring Hacker News Posts/hacker_news.csv')))\n",
    "\n",
    "# Printing the first five rows\n",
    "print(hn[:6])"
   ]
  },
  {
   "cell_type": "markdown",
   "metadata": {},
   "source": [
    "Now we're going to store the headers in a separate list so we can analyze the data more freely, but without losing our reference."
   ]
  },
  {
   "cell_type": "code",
   "execution_count": 3,
   "metadata": {},
   "outputs": [
    {
     "name": "stdout",
     "output_type": "stream",
     "text": [
      "['id', 'title', 'url', 'num_points', 'num_comments', 'author', 'created_at']\n",
      "\n",
      "\n",
      "[['12224879', 'Interactive Dynamic Video', 'http://www.interactivedynamicvideo.com/', '386', '52', 'ne0phyte', '8/4/2016 11:52'], ['10975351', 'How to Use Open Source and Shut the Fuck Up at the Same Time', 'http://hueniverse.com/2016/01/26/how-to-use-open-source-and-shut-the-fuck-up-at-the-same-time/', '39', '10', 'josep2', '1/26/2016 19:30']]\n"
     ]
    }
   ],
   "source": [
    "# Storing the headers in another list\n",
    "headers = hn[0]\n",
    "\n",
    "# Removing the first row of hn\n",
    "hn = hn[1:]\n",
    "\n",
    "# Checking the result\n",
    "print(headers)\n",
    "print(\"\\n\")\n",
    "print(hn[:2])"
   ]
  },
  {
   "cell_type": "markdown",
   "metadata": {},
   "source": [
    "## 2 Analyzing which type of post has more comments\n",
    "This next step consists on taking just the relevant posts to our analysis, since it is just about the Aks HN and Show HN posts."
   ]
  },
  {
   "cell_type": "code",
   "execution_count": 4,
   "metadata": {},
   "outputs": [
    {
     "name": "stdout",
     "output_type": "stream",
     "text": [
      "ask_posts length: 1744 \n",
      "show_posts length: 1162 \n",
      "other_posts length: 17194\n"
     ]
    }
   ],
   "source": [
    "# Creating the lists to store the data\n",
    "ask_posts = []\n",
    "show_posts = []\n",
    "other_posts = []\n",
    "\n",
    "# Populating the lists\n",
    "for row in hn:\n",
    "    title = row[1].lower()     # The first column contains 'id' information\n",
    "    if title.startswith('ask hn') == True:\n",
    "        ask_posts.append(row)\n",
    "    elif title.startswith('show hn') == True:\n",
    "        show_posts.append(row)\n",
    "    else:\n",
    "        other_posts.append(row)\n",
    "        \n",
    "# Checking if everything worked fine\n",
    "a = len(ask_posts)\n",
    "b = len(show_posts)\n",
    "c = len(other_posts)\n",
    "print(f'ask_posts length: {a} \\nshow_posts length: {b} \\nother_posts length: {c}')\n",
    "    "
   ]
  },
  {
   "cell_type": "markdown",
   "metadata": {},
   "source": [
    "It seems everything worked fine. Now lets see if ask posts or show posts receive more comments on average."
   ]
  },
  {
   "cell_type": "code",
   "execution_count": 5,
   "metadata": {},
   "outputs": [
    {
     "name": "stdout",
     "output_type": "stream",
     "text": [
      "14.038417431192661\n"
     ]
    }
   ],
   "source": [
    "# Creating the variable to store the ask comments values\n",
    "total_ask_comments = 0\n",
    "\n",
    "# Populating the total_ask_comments variable\n",
    "for item in ask_posts:\n",
    "    n_comments_ask = int(item[4])\n",
    "    total_ask_comments += n_comments_ask\n",
    "    \n",
    "# Calculating the avarage of ask posts comments\n",
    "avg_ask_comments = (total_ask_comments)/(len(ask_posts))\n",
    "print(avg_ask_comments)"
   ]
  },
  {
   "cell_type": "code",
   "execution_count": 6,
   "metadata": {},
   "outputs": [
    {
     "name": "stdout",
     "output_type": "stream",
     "text": [
      "10.31669535283993\n"
     ]
    }
   ],
   "source": [
    "# Creating the variable to store the show comments values\n",
    "total_show_comments = 0\n",
    "    \n",
    "# Populating the total_show_comments\n",
    "for item in show_posts:\n",
    "    n_comments_show = int(item[4])\n",
    "    total_show_comments += n_comments_show\n",
    "\n",
    "# Calculating the average of show comments    \n",
    "avg_show_comments = total_show_comments/(len(show_posts))\n",
    "print(avg_show_comments)"
   ]
  },
  {
   "cell_type": "code",
   "execution_count": 7,
   "metadata": {},
   "outputs": [
    {
     "name": "stdout",
     "output_type": "stream",
     "text": [
      "Average comments on Aks HN posts: 14.038417431192661\n",
      "Average comments on Show HN posts: 10.31669535283993\n"
     ]
    }
   ],
   "source": [
    "# Comparing the results\n",
    "print(f\"Average comments on Aks HN posts: {avg_ask_comments}\")\n",
    "print(f\"Average comments on Show HN posts: {avg_show_comments}\")"
   ]
  },
  {
   "cell_type": "markdown",
   "metadata": {},
   "source": [
    "As we can see above, there are more comments in Aks HN posts than in Show HN posts, almost 4 more. Because of that, we are going to focus our next analysis on it: **Does the publication period of time affect it?**"
   ]
  },
  {
   "cell_type": "markdown",
   "metadata": {},
   "source": [
    "## 3 Cheking if time of publication affects amount of comments\n",
    "To do so we are going to follow two steps. First we will calculate the amount of posts created in each hour of the day, along with the number of comments received. Second we will calculate the average number of comments ask posts receive by our created.\n",
    "\n",
    "### Calculating the amount comments per post per hour"
   ]
  },
  {
   "cell_type": "code",
   "execution_count": 8,
   "metadata": {},
   "outputs": [
    {
     "name": "stdout",
     "output_type": "stream",
     "text": [
      "{9: 251, 13: 1253, 10: 793, 14: 1416, 16: 1814, 23: 543, 12: 687, 17: 1146, 15: 4477, 21: 1745, 20: 1722, 2: 1381, 18: 1439, 3: 421, 5: 464, 19: 1188, 1: 683, 22: 479, 8: 492, 4: 337, 0: 447, 6: 397, 7: 267, 11: 641}\n",
      "{9: 45, 13: 85, 10: 59, 14: 107, 16: 108, 23: 68, 12: 73, 17: 100, 15: 116, 21: 109, 20: 80, 2: 58, 18: 109, 3: 54, 5: 46, 19: 110, 1: 60, 22: 71, 8: 48, 4: 47, 0: 55, 6: 44, 7: 34, 11: 58}\n"
     ]
    }
   ],
   "source": [
    "# Importing the datetime module\n",
    "import datetime as dt\n",
    "\n",
    "# Creating a list to store the values of posts and comments per hour\n",
    "result_list = []\n",
    "\n",
    "# Populating our result list\n",
    "for item in ask_posts:\n",
    "    created_at = item[6]\n",
    "    n_comments = item[4]\n",
    "    row = list([created_at, n_comments])\n",
    "    result_list.append(row)\n",
    "\n",
    "# Creating two dictionaries to make the frequency tables\n",
    "counts_by_hour = {}\n",
    "comments_by_hour = {}\n",
    "\n",
    "# Populating our dictionaries\n",
    "for item in result_list:\n",
    "    datetime_str = item[0]\n",
    "    comments = int(item[1])\n",
    "    datetime_hour = dt.datetime.strptime(datetime_str, \"%m/%d/%Y %H:%M\")\n",
    "    hour = datetime_hour.hour\n",
    "    if hour in counts_by_hour:\n",
    "        counts_by_hour[hour] += 1\n",
    "        comments_by_hour[hour] += comments\n",
    "    else:\n",
    "        counts_by_hour[hour] = 1\n",
    "        comments_by_hour[hour] = comments\n",
    "\n",
    "# Checking if it worked\n",
    "print(comments_by_hour)\n",
    "print(counts_by_hour)"
   ]
  },
  {
   "cell_type": "markdown",
   "metadata": {},
   "source": [
    "Done that, we will calculate the **average amount** of comments per hour."
   ]
  },
  {
   "cell_type": "code",
   "execution_count": 9,
   "metadata": {},
   "outputs": [
    {
     "name": "stdout",
     "output_type": "stream",
     "text": [
      "[[9, 5.58], [13, 14.74], [10, 13.44], [14, 13.23], [16, 16.8], [23, 7.99], [12, 9.41], [17, 11.46], [15, 38.59], [21, 16.01], [20, 21.52], [2, 23.81], [18, 13.2], [3, 7.8], [5, 10.09], [19, 10.8], [1, 11.38], [22, 6.75], [8, 10.25], [4, 7.17], [0, 8.13], [6, 9.02], [7, 7.85], [11, 11.05]]\n"
     ]
    }
   ],
   "source": [
    "# Creating the list to store the date\n",
    "avg_by_hour = []\n",
    "\n",
    "# Populating our list with the values of posts per hour\n",
    "for item in counts_by_hour:\n",
    "    information = list([item, round(int(comments_by_hour[item])/int(counts_by_hour[item]),2)])\n",
    "    avg_by_hour.append(information)\n",
    "    \n",
    "# Checking if everything worked fine\n",
    "print(avg_by_hour)"
   ]
  },
  {
   "cell_type": "markdown",
   "metadata": {},
   "source": [
    "Once we did it, we need to display the data in a clear way to see the hours with the most comments. We'll do that with a second list, that we'll create next."
   ]
  },
  {
   "cell_type": "code",
   "execution_count": 10,
   "metadata": {},
   "outputs": [
    {
     "name": "stdout",
     "output_type": "stream",
     "text": [
      "[[5.58, 9], [14.74, 13], [13.44, 10], [13.23, 14], [16.8, 16], [7.99, 23], [9.41, 12], [11.46, 17], [38.59, 15], [16.01, 21], [21.52, 20], [23.81, 2], [13.2, 18], [7.8, 3], [10.09, 5], [10.8, 19], [11.38, 1], [6.75, 22], [10.25, 8], [7.17, 4], [8.13, 0], [9.02, 6], [7.85, 7], [11.05, 11]]\n"
     ]
    }
   ],
   "source": [
    "# Creating the empty list that will be sorted\n",
    "swap_avg_by_hour = []\n",
    "\n",
    "# Populating the list inverting the elements of the first one\n",
    "for item in avg_by_hour:\n",
    "    new_items = list([item[1], item[0]])\n",
    "    swap_avg_by_hour.append(new_items)\n",
    "    \n",
    "# Checking to see if it worked\n",
    "print(swap_avg_by_hour)"
   ]
  },
  {
   "cell_type": "code",
   "execution_count": 11,
   "metadata": {},
   "outputs": [
    {
     "name": "stdout",
     "output_type": "stream",
     "text": [
      "Top 5 Hours for Ask Posts Comments\n",
      "15:00: 38.59 average comments per post\n",
      "02:00: 23.81 average comments per post\n",
      "20:00: 21.52 average comments per post\n",
      "16:00: 16.8 average comments per post\n",
      "21:00: 16.01 average comments per post\n"
     ]
    }
   ],
   "source": [
    "# Sorting the swap list\n",
    "sorted_swap = sorted(swap_avg_by_hour, reverse=True)\n",
    "\n",
    "# Title of our small dataframe\n",
    "print(\"Top 5 Hours for Ask Posts Comments\")\n",
    "\n",
    "# Looping through our data to print the top 5 hours\n",
    "for row in sorted_swap[:5]:\n",
    "    datetime_object = dt.datetime.strptime(str(row[1]), \"%H\")\n",
    "    time_object = datetime_object.strftime(\"%H:%M\")\n",
    "    print(\"{}: {} average comments per post\".format(time_object, row[0]))"
   ]
  },
  {
   "cell_type": "markdown",
   "metadata": {},
   "source": [
    "As we can see above, if we want to make a post that reaches over 20 comments (probably), we should do it at **15, 2 or 20 o'clock, Eastern Time**. Or, if you live here in Brasil too, we should do it at **17, 4 or 20 o'clock, Brasílias Time**."
   ]
  }
 ],
 "metadata": {
  "kernelspec": {
   "display_name": "Python 3",
   "language": "python",
   "name": "python3"
  },
  "language_info": {
   "codemirror_mode": {
    "name": "ipython",
    "version": 3
   },
   "file_extension": ".py",
   "mimetype": "text/x-python",
   "name": "python",
   "nbconvert_exporter": "python",
   "pygments_lexer": "ipython3",
   "version": "3.8.5"
  }
 },
 "nbformat": 4,
 "nbformat_minor": 2
}
